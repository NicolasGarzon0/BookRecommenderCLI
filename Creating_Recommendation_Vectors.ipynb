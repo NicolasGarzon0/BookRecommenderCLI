{
 "cells": [
  {
   "cell_type": "markdown",
   "metadata": {},
   "source": [
    "# Cleaning Dataset"
   ]
  },
  {
   "cell_type": "code",
   "execution_count": null,
   "metadata": {},
   "outputs": [],
   "source": [
    "import pandas as pd \n",
    "\n",
    "# Load dataset\n",
    "df_dataset = pd.read_csv('PATH_TO_KAGGLE_DATASET.csv') #https://www.kaggle.com/datasets/austinreese/goodreads-books \n",
    "\n",
    "# Select relevant columns\n",
    "df_dataset = df_dataset[['id', 'title', 'original_title', 'rating_count','description','genre_and_votes','amazon_redirect_link']]\n",
    "\n",
    "# Drop rows with missing values\n",
    "df_dataset.dropna(inplace=True)\n",
    "\n",
    "# Remove numbers from genre_and_votes\n",
    "df_dataset['genre_and_votes'] = df_dataset['genre_and_votes'].replace(r'\\d+', '', regex=True).str.rsplit(\",\").apply(lambda x: x[0])\n",
    "\n",
    "# Sort by rating_count in descending order\n",
    "df_dataset.sort_values(by='rating_count', ascending=False, inplace=True)\n",
    "\n",
    "# Remove duplicates based on original_title\n",
    "df_dataset.drop_duplicates(subset=['original_title'], inplace=True)\n",
    "\n",
    "# Keep top 1,000 rows\n",
    "df_dataset = df_dataset.head(1000) \n",
    "\n",
    "# Drop unnecessary columns\n",
    "df_dataset.drop(columns=['rating_count','original_title'], inplace=True)\n",
    "\n",
    "# Set 'id' as the index\n",
    "df_dataset.set_index('id', inplace=True)\n",
    "\n",
    "# Rename columns for clarity\n",
    "df_dataset.rename(columns={ 'genre_and_votes': 'genre', 'amazon_redirect_link': 'amazon link'}, inplace=True)\n",
    "\n",
    "#Save as CSV\n",
    "df_dataset.to_csv(\"Books Data.csv\")"
   ]
  },
  {
   "cell_type": "markdown",
   "metadata": {},
   "source": [
    "# Creating Recommendation Vectors"
   ]
  },
  {
   "cell_type": "code",
   "execution_count": null,
   "metadata": {},
   "outputs": [],
   "source": [
    "from sklearn.feature_extraction.text import TfidfVectorizer\n",
    "\n",
    "# Load Dataset\n",
    "data = pd.read_csv('PATH_TO_Books Data.csv')\n",
    "\n",
    "#Normalized Genres\n",
    "Normalized_Genres = pd.get_dummies(data['genre'], dtype='int')\n",
    "\n",
    "# Normalized Descriptions using TF-IDF\n",
    "data['description'] = data['description'].str.lower()\n",
    "vectorizer = TfidfVectorizer(stop_words='english', max_features=1000)\n",
    "tfidf_matrix = vectorizer.fit_transform(data['description']).toarray()\n",
    "tfidf_df = pd.DataFrame(tfidf_matrix, columns=vectorizer.get_feature_names_out())\n",
    "\n",
    "#Combined Dataframe\n",
    "Revised_Dataframe = pd.DataFrame()\n",
    "Revised_Dataframe = pd.concat([Normalized_Genres,tfidf_df,data['id']], axis=1)\n",
    "Revised_Dataframe.set_index(\"id\", inplace=True)\n",
    "\n",
    "#Save as CSV\n",
    "Revised_Dataframe.to_csv(\"Recommendation Vectors.csv\", index=True)"
   ]
  }
 ],
 "metadata": {
  "kernelspec": {
   "display_name": "venv",
   "language": "python",
   "name": "python3"
  },
  "language_info": {
   "name": "python",
   "version": "3.12.6"
  }
 },
 "nbformat": 4,
 "nbformat_minor": 2
}
